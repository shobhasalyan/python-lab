{
 "cells": [
  {
   "cell_type": "code",
   "execution_count": 3,
   "id": "ce777093",
   "metadata": {},
   "outputs": [
    {
     "name": "stdout",
     "output_type": "stream",
     "text": [
      "Hello world\n"
     ]
    }
   ],
   "source": [
    "print(\"Hello world\")"
   ]
  },
  {
   "cell_type": "code",
   "execution_count": 5,
   "id": "db97df85",
   "metadata": {},
   "outputs": [
    {
     "name": "stdout",
     "output_type": "stream",
     "text": [
      "Sum 27\n"
     ]
    }
   ],
   "source": [
    "a=15\n",
    "b=12\n",
    "sum=a+b\n",
    "print(\"Sum\",sum)"
   ]
  },
  {
   "cell_type": "code",
   "execution_count": 7,
   "id": "b3da8d7b",
   "metadata": {},
   "outputs": [
    {
     "name": "stdout",
     "output_type": "stream",
     "text": [
      "First number: 56\n",
      "second number: 96\n",
      "sum of 56 and 96 is 152.0\n"
     ]
    }
   ],
   "source": [
    "a=input(\"First number: \")\n",
    "b=input(\"second number: \")\n",
    "sum=float(a)+float(b)\n",
    "print(\"sum of {0} and {1} is {2}\".format(a,b,sum))"
   ]
  },
  {
   "cell_type": "code",
   "execution_count": 8,
   "id": "c27ffb7a",
   "metadata": {},
   "outputs": [
    {
     "name": "stdout",
     "output_type": "stream",
     "text": [
      "sum of 10 and 5 is 15\n"
     ]
    }
   ],
   "source": [
    "def add(a,b):\n",
    "    return a+b\n",
    "num1=10\n",
    "num2=5\n",
    "sum_of_twonumbers=add(num1,num2)\n",
    "print(\"sum of {0} and {1} is {2}\".format(num1,num2,sum_of_twonumbers))"
   ]
  },
  {
   "cell_type": "code",
   "execution_count": 10,
   "id": "c132c4ab",
   "metadata": {},
   "outputs": [
    {
     "name": "stdout",
     "output_type": "stream",
     "text": [
      "First number: 52\n",
      "second number: 52.1\n",
      "maximum= 52.1\n"
     ]
    }
   ],
   "source": [
    "a=input(\"First number: \")\n",
    "b=input(\"second number: \")\n",
    "maximum=max(a,b)\n",
    "print(\"maximum=\",maximum)"
   ]
  },
  {
   "cell_type": "code",
   "execution_count": 13,
   "id": "bfb83908",
   "metadata": {},
   "outputs": [
    {
     "name": "stdout",
     "output_type": "stream",
     "text": [
      "factorial of 6 is 720\n"
     ]
    }
   ],
   "source": [
    "def factorial(n):\n",
    "    return 1 if (n==1 or n==0) else n*factorial(n-1)\n",
    "num=6\n",
    "print(\"factorial of\",num,\"is\",factorial(num))"
   ]
  },
  {
   "cell_type": "code",
   "execution_count": 21,
   "id": "28f6c2e2",
   "metadata": {},
   "outputs": [
    {
     "name": "stdout",
     "output_type": "stream",
     "text": [
      "Enter the principal amount :3000\n",
      "Enter the TIME PERIOD :7\n",
      "Enter the rate of intrest:12\n",
      "principal amount = 3000\n",
      "time period = 7\n",
      "rate of intrest = 12\n",
      "simple intrest = 2520.0\n"
     ]
    }
   ],
   "source": [
    "def simple(p,t,r):\n",
    "    print('principal amount =',p)\n",
    "    print('time period =',t)\n",
    "    print('rate of intrest =',r)\n",
    "    si=(p*t*r)/100\n",
    "    print('simple intrest =',si)\n",
    "P=int(input(\"Enter the principal amount :\"))\n",
    "T=int(input(\"Enter the TIME PERIOD :\"))\n",
    "R=int(input(\"Enter the rate of intrest:\"))\n",
    "simple(P,T,R)"
   ]
  },
  {
   "cell_type": "code",
   "execution_count": 22,
   "id": "38699605",
   "metadata": {},
   "outputs": [
    {
     "name": "stdout",
     "output_type": "stream",
     "text": [
      "the ASCII value of'g' is 103\n"
     ]
    }
   ],
   "source": [
    "c='g'\n",
    "print(\"the ASCII value of'\" +c+\"' is\",ord(c))"
   ]
  },
  {
   "cell_type": "code",
   "execution_count": 1,
   "id": "81c72cba",
   "metadata": {},
   "outputs": [
    {
     "name": "stdout",
     "output_type": "stream",
     "text": [
      "Enter a String: Python programming\n",
      "P \t 80\n",
      "y \t 121\n",
      "t \t 116\n",
      "h \t 104\n",
      "o \t 111\n",
      "n \t 110\n",
      "  \t 32\n",
      "p \t 112\n",
      "r \t 114\n",
      "o \t 111\n",
      "g \t 103\n",
      "r \t 114\n",
      "a \t 97\n",
      "m \t 109\n",
      "m \t 109\n",
      "i \t 105\n",
      "n \t 110\n",
      "g \t 103\n"
     ]
    }
   ],
   "source": [
    "print(\"Enter a String:\",end=\" \")\n",
    "text=input()\n",
    "textlength=len(text)\n",
    "for char in text:\n",
    "    ascii=ord(char)\n",
    "    print(char,\"\\t\",ascii)"
   ]
  },
  {
   "cell_type": "code",
   "execution_count": 3,
   "id": "463abffd",
   "metadata": {},
   "outputs": [
    {
     "name": "stdout",
     "output_type": "stream",
     "text": [
      "Hello Good Morning\n"
     ]
    }
   ],
   "source": [
    "a=\"Hello\"\n",
    "b=\" Good \"\n",
    "c=\"Morning\"\n",
    "print(a+b+c)"
   ]
  },
  {
   "cell_type": "code",
   "execution_count": 6,
   "id": "25386672",
   "metadata": {},
   "outputs": [
    {
     "name": "stdout",
     "output_type": "stream",
     "text": [
      "Enter the value of n:\n",
      "5\n",
      "Enter 5 Numbers:\n",
      "6\n",
      "9\n",
      "8\n",
      "61\n",
      "25\n",
      "sum of 5 Numbers =109\n"
     ]
    }
   ],
   "source": [
    "sum=0\n",
    "print(\"Enter the value of n:\")\n",
    "n=int(input())\n",
    "print(\"Enter \"+str(n) +\" Numbers:\")\n",
    "for i in range(n):\n",
    "    num=int(input())\n",
    "    sum=sum+num\n",
    "print(\"sum of \"+str(n)+\" Numbers =\"+str(sum))"
   ]
  },
  {
   "cell_type": "code",
   "execution_count": 21,
   "id": "1847afec",
   "metadata": {},
   "outputs": [
    {
     "name": "stdout",
     "output_type": "stream",
     "text": [
      "Enter the range\n",
      "5\n",
      "0\n",
      "1\n",
      "2\n",
      "3\n",
      "4\n"
     ]
    }
   ],
   "source": [
    "print(\"Enter the range\")\n",
    "n=int(input())\n",
    "for i in range(0,n):\n",
    "   print(i)"
   ]
  },
  {
   "cell_type": "code",
   "execution_count": 26,
   "id": "83bdab28",
   "metadata": {},
   "outputs": [
    {
     "name": "stdout",
     "output_type": "stream",
     "text": [
      "40  is less than  54\n"
     ]
    }
   ],
   "source": [
    "a=40\n",
    "b=54\n",
    "if a>b:\n",
    " print(a,\" is grater than \",b)\n",
    "else: \n",
    "     print(a,\" is less than \",b)"
   ]
  },
  {
   "cell_type": "code",
   "execution_count": 32,
   "id": "053bcc52",
   "metadata": {},
   "outputs": [
    {
     "name": "stdout",
     "output_type": "stream",
     "text": [
      "9\n",
      "a= 9\n",
      "69\n",
      "b= 69\n",
      "9  is less than  69\n"
     ]
    }
   ],
   "source": [
    "a=int(input())\n",
    "print(\"a=\",a)\n",
    "b=int(input())\n",
    "print(\"b=\",b)\n",
    "if a>b :\n",
    "    print(a,\" is grater than \",b)\n",
    "if a<b:\n",
    "    print(a,\" is less than \",b)\n",
    "if a==b:\n",
    "    print(a,\" is equal to \",b)"
   ]
  },
  {
   "cell_type": "code",
   "execution_count": 36,
   "id": "9e7cb1b9",
   "metadata": {},
   "outputs": [
    {
     "name": "stdout",
     "output_type": "stream",
     "text": [
      "Squre of 1 = 1\n",
      "Squre of 2 = 4\n",
      "Squre of 3 = 9\n",
      "Squre of 4 = 16\n",
      "Squre of 5 = 25\n",
      "Squre of 6 = 36\n",
      "Squre of 7 = 49\n",
      "Squre of 8 = 64\n"
     ]
    }
   ],
   "source": [
    "n=9\n",
    "for i in range(1,n):\n",
    "    n=i*i\n",
    "    print(\"Squre of\",i,\"=\",n)"
   ]
  },
  {
   "cell_type": "code",
   "execution_count": 43,
   "id": "e2a9bc90",
   "metadata": {},
   "outputs": [
    {
     "name": "stdout",
     "output_type": "stream",
     "text": [
      "Enter a=78\n",
      "Enter b=78\n",
      "78  is equal to  78\n"
     ]
    }
   ],
   "source": [
    "a=int(input(\"Enter a=\"))\n",
    "b=int(input(\"Enter b=\"))\n",
    "if a>b :\n",
    "    print(a,\" is grater than \",b)\n",
    "elif a<b:\n",
    "    print(a,\" is less than \",b)\n",
    "else:\n",
    "    print(a,\" is equal to \",b)"
   ]
  },
  {
   "cell_type": "code",
   "execution_count": 55,
   "id": "b58b795d",
   "metadata": {},
   "outputs": [
    {
     "name": "stdout",
     "output_type": "stream",
     "text": [
      "6\n",
      "5\n",
      "4\n",
      "3\n"
     ]
    }
   ],
   "source": [
    "m=6\n",
    "while m>2:\n",
    "    print(m)\n",
    "    m=m-1\n"
   ]
  },
  {
   "cell_type": "code",
   "execution_count": 64,
   "id": "6b06edc7",
   "metadata": {},
   "outputs": [
    {
     "name": "stdout",
     "output_type": "stream",
     "text": [
      "Enter no.of rows: 3\n",
      "Enter no.of columns: 3\n",
      "Enter the elements of the fist matrix:\n",
      "5\n",
      "69\n",
      "5\n",
      "-3\n",
      "0\n",
      "-14\n",
      "25\n",
      "3\n",
      "4\n",
      "First matrix is:\n",
      "[5, 69, 5]\n",
      "[-3, 0, -14]\n",
      "[25, 3, 4]\n",
      "Enter the column of second matrix:\n",
      "15\n",
      "62\n",
      "58\n",
      "94\n",
      "71\n",
      "0\n",
      "-98\n",
      "2\n",
      "6\n",
      "Second matrix:\n",
      "[15, 62, 58]\n",
      "[94, 71, 0]\n",
      "[-98, 2, 6]\n",
      "the sum o matrix:\n",
      "[20, 131, 63]\n",
      "[91, 71, -14]\n",
      "[-73, 5, 10]\n"
     ]
    }
   ],
   "source": [
    "rows=int(input(\"Enter no.of rows: \"))\n",
    "columns=int(input(\"Enter no.of columns: \"))\n",
    "print(\"Enter the elements of the fist matrix:\")\n",
    "m1=[[int(input()) for i in range(columns)] for i in range(rows)]\n",
    "print(\"First matrix is:\")\n",
    "for n in m1:\n",
    "    print(n)\n",
    "print(\"Enter the column of second matrix:\")\n",
    "m2=[[int(input()) for i in range(columns)] for i in range(rows)]\n",
    "print(\"Second matrix:\")\n",
    "for n in m2:\n",
    "    print(n)\n",
    "result=[[0 for i in range(columns)] for i in range(rows)]\n",
    "for i in range(rows):\n",
    "    for j in range(columns):\n",
    "        result[i][j]=m1[i][j]+m2[i][j]\n",
    "print(\"the sum o matrix:\")\n",
    "for r in result:\n",
    "    print(r)"
   ]
  },
  {
   "cell_type": "code",
   "execution_count": 59,
   "id": "e9e52519",
   "metadata": {},
   "outputs": [
    {
     "name": "stdout",
     "output_type": "stream",
     "text": [
      "Enter no.of items:3\n",
      "Enter items:BOOKS\n",
      "Enter items:PENS\n",
      "Enter items:PENCILS\n",
      "BOOKS\n",
      "PENS\n",
      "PENCILS\n"
     ]
    }
   ],
   "source": [
    "stationary=[]\n",
    "n=int(input(\"Enter no.of items:\"))\n",
    "for i in range(n):\n",
    "    stationary.append(input(\"Enter items:\"))\n",
    "for i in stationary:\n",
    "    print(i)"
   ]
  },
  {
   "cell_type": "code",
   "execution_count": 63,
   "id": "cf69d3af",
   "metadata": {},
   "outputs": [
    {
     "name": "stdout",
     "output_type": "stream",
     "text": [
      "Enter a string=\tDEEKSHITH KUMAR ADLIMJALU\n",
      " KUMAR ADLIMJ\n"
     ]
    }
   ],
   "source": [
    "A=input(\"Enter a string=\\t\")\n",
    "Alen=len(A)\n",
    "print(A[9:Alen-3])"
   ]
  },
  {
   "cell_type": "code",
   "execution_count": 8,
   "id": "e1d13ce2",
   "metadata": {},
   "outputs": [
    {
     "name": "stdout",
     "output_type": "stream",
     "text": [
      "Enter the number of rows:3\n",
      "Enter the number of columns:3\n",
      "Enter the entries row vise\n",
      "6\n",
      "5\n",
      "4\n",
      "7\n",
      "2\n",
      "3\n",
      "9\n",
      "2\n",
      "1\n",
      "6 5 4 \n",
      "7 2 3 \n",
      "9 2 1 \n"
     ]
    }
   ],
   "source": [
    "Rows=int(input(\"Enter the number of rows:\"))\n",
    "Columns=int(input(\"Enter the number of columns:\"))\n",
    "matrix=[]\n",
    "print(\"Enter the entries row vise\")\n",
    "for row in range(Rows):\n",
    "    a=[]\n",
    "    for column in range(Columns):\n",
    "        a.append(int(input()))\n",
    "    matrix.append(a)\n",
    "for row in range(Rows):\n",
    "    for column in range(Columns):\n",
    "        print(matrix[row][column],end=\" \")\n",
    "    print()\n"
   ]
  },
  {
   "cell_type": "code",
   "execution_count": null,
   "id": "4ea03a45",
   "metadata": {},
   "outputs": [],
   "source": []
  }
 ],
 "metadata": {
  "kernelspec": {
   "display_name": "Python 3 (ipykernel)",
   "language": "python",
   "name": "python3"
  },
  "language_info": {
   "codemirror_mode": {
    "name": "ipython",
    "version": 3
   },
   "file_extension": ".py",
   "mimetype": "text/x-python",
   "name": "python",
   "nbconvert_exporter": "python",
   "pygments_lexer": "ipython3",
   "version": "3.11.4"
  }
 },
 "nbformat": 4,
 "nbformat_minor": 5
}
