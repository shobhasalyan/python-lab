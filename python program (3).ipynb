{
 "cells": [
  {
   "cell_type": "code",
   "execution_count": 3,
   "id": "ce777093",
   "metadata": {},
   "outputs": [
    {
     "name": "stdout",
     "output_type": "stream",
     "text": [
      "Hello world\n"
     ]
    }
   ],
   "source": [
    "print(\"Hello world\")"
   ]
  },
  {
   "cell_type": "code",
   "execution_count": 5,
   "id": "db97df85",
   "metadata": {},
   "outputs": [
    {
     "name": "stdout",
     "output_type": "stream",
     "text": [
      "Sum 27\n"
     ]
    }
   ],
   "source": [
    "a=15\n",
    "b=12\n",
    "sum=a+b\n",
    "print(\"Sum\",sum)"
   ]
  },
  {
   "cell_type": "code",
   "execution_count": 7,
   "id": "b3da8d7b",
   "metadata": {},
   "outputs": [
    {
     "name": "stdout",
     "output_type": "stream",
     "text": [
      "First number: 56\n",
      "second number: 96\n",
      "sum of 56 and 96 is 152.0\n"
     ]
    }
   ],
   "source": [
    "a=input(\"First number: \")\n",
    "b=input(\"second number: \")\n",
    "sum=float(a)+float(b)\n",
    "print(\"sum of {0} and {1} is {2}\".format(a,b,sum))"
   ]
  },
  {
   "cell_type": "code",
   "execution_count": 8,
   "id": "c27ffb7a",
   "metadata": {},
   "outputs": [
    {
     "name": "stdout",
     "output_type": "stream",
     "text": [
      "sum of 10 and 5 is 15\n"
     ]
    }
   ],
   "source": [
    "def add(a,b):\n",
    "    return a+b\n",
    "num1=10\n",
    "num2=5\n",
    "sum_of_twonumbers=add(num1,num2)\n",
    "print(\"sum of {0} and {1} is {2}\".format(num1,num2,sum_of_twonumbers))"
   ]
  },
  {
   "cell_type": "code",
   "execution_count": 10,
   "id": "c132c4ab",
   "metadata": {},
   "outputs": [
    {
     "name": "stdout",
     "output_type": "stream",
     "text": [
      "First number: 52\n",
      "second number: 52.1\n",
      "maximum= 52.1\n"
     ]
    }
   ],
   "source": [
    "a=input(\"First number: \")\n",
    "b=input(\"second number: \")\n",
    "maximum=max(a,b)\n",
    "print(\"maximum=\",maximum)"
   ]
  },
  {
   "cell_type": "code",
   "execution_count": 13,
   "id": "bfb83908",
   "metadata": {},
   "outputs": [
    {
     "name": "stdout",
     "output_type": "stream",
     "text": [
      "factorial of 6 is 720\n"
     ]
    }
   ],
   "source": [
    "def factorial(n):\n",
    "    return 1 if (n==1 or n==0) else n*factorial(n-1)\n",
    "num=6\n",
    "print(\"factorial of\",num,\"is\",factorial(num))"
   ]
  },
  {
   "cell_type": "code",
   "execution_count": 21,
   "id": "28f6c2e2",
   "metadata": {},
   "outputs": [
    {
     "name": "stdout",
     "output_type": "stream",
     "text": [
      "Enter the principal amount :3000\n",
      "Enter the TIME PERIOD :7\n",
      "Enter the rate of intrest:12\n",
      "principal amount = 3000\n",
      "time period = 7\n",
      "rate of intrest = 12\n",
      "simple intrest = 2520.0\n"
     ]
    }
   ],
   "source": [
    "def simple(p,t,r):\n",
    "    print('principal amount =',p)\n",
    "    print('time period =',t)\n",
    "    print('rate of intrest =',r)\n",
    "    si=(p*t*r)/100\n",
    "    print('simple intrest =',si)\n",
    "P=int(input(\"Enter the principal amount :\"))\n",
    "T=int(input(\"Enter the TIME PERIOD :\"))\n",
    "R=int(input(\"Enter the rate of intrest:\"))\n",
    "simple(P,T,R)"
   ]
  },
  {
   "cell_type": "code",
   "execution_count": 22,
   "id": "38699605",
   "metadata": {},
   "outputs": [
    {
     "name": "stdout",
     "output_type": "stream",
     "text": [
      "the ASCII value of'g' is 103\n"
     ]
    }
   ],
   "source": [
    "c='g'\n",
    "print(\"the ASCII value of'\" +c+\"' is\",ord(c))"
   ]
  },
  {
   "cell_type": "code",
   "execution_count": 1,
   "id": "81c72cba",
   "metadata": {},
   "outputs": [
    {
     "name": "stdout",
     "output_type": "stream",
     "text": [
      "Enter a String: Python programming\n",
      "P \t 80\n",
      "y \t 121\n",
      "t \t 116\n",
      "h \t 104\n",
      "o \t 111\n",
      "n \t 110\n",
      "  \t 32\n",
      "p \t 112\n",
      "r \t 114\n",
      "o \t 111\n",
      "g \t 103\n",
      "r \t 114\n",
      "a \t 97\n",
      "m \t 109\n",
      "m \t 109\n",
      "i \t 105\n",
      "n \t 110\n",
      "g \t 103\n"
     ]
    }
   ],
   "source": [
    "print(\"Enter a String:\",end=\" \")\n",
    "text=input()\n",
    "textlength=len(text)\n",
    "for char in text:\n",
    "    ascii=ord(char)\n",
    "    print(char,\"\\t\",ascii)"
   ]
  },
  {
   "cell_type": "code",
   "execution_count": 3,
   "id": "463abffd",
   "metadata": {},
   "outputs": [
    {
     "name": "stdout",
     "output_type": "stream",
     "text": [
      "Hello Good Morning\n"
     ]
    }
   ],
   "source": [
    "a=\"Hello\"\n",
    "b=\" Good \"\n",
    "c=\"Morning\"\n",
    "print(a+b+c)"
   ]
  },
  {
   "cell_type": "code",
   "execution_count": 6,
   "id": "25386672",
   "metadata": {},
   "outputs": [
    {
     "name": "stdout",
     "output_type": "stream",
     "text": [
      "Enter the value of n:\n",
      "5\n",
      "Enter 5 Numbers:\n",
      "6\n",
      "9\n",
      "8\n",
      "61\n",
      "25\n",
      "sum of 5 Numbers =109\n"
     ]
    }
   ],
   "source": [
    "sum=0\n",
    "print(\"Enter the value of n:\")\n",
    "n=int(input())\n",
    "print(\"Enter \"+str(n) +\" Numbers:\")\n",
    "for i in range(n):\n",
    "    num=int(input())\n",
    "    sum=sum+num\n",
    "print(\"sum of \"+str(n)+\" Numbers =\"+str(sum))"
   ]
  },
  {
   "cell_type": "code",
   "execution_count": 21,
   "id": "1847afec",
   "metadata": {},
   "outputs": [
    {
     "name": "stdout",
     "output_type": "stream",
     "text": [
      "Enter the range\n",
      "5\n",
      "0\n",
      "1\n",
      "2\n",
      "3\n",
      "4\n"
     ]
    }
   ],
   "source": [
    "print(\"Enter the range\")\n",
    "n=int(input())\n",
    "for i in range(0,n):\n",
    "   print(i)"
   ]
  },
  {
   "cell_type": "code",
   "execution_count": 26,
   "id": "83bdab28",
   "metadata": {},
   "outputs": [
    {
     "name": "stdout",
     "output_type": "stream",
     "text": [
      "40  is less than  54\n"
     ]
    }
   ],
   "source": [
    "a=40\n",
    "b=54\n",
    "if a>b:\n",
    " print(a,\" is grater than \",b)\n",
    "else: \n",
    "     print(a,\" is less than \",b)"
   ]
  },
  {
   "cell_type": "code",
   "execution_count": 32,
   "id": "053bcc52",
   "metadata": {},
   "outputs": [
    {
     "name": "stdout",
     "output_type": "stream",
     "text": [
      "9\n",
      "a= 9\n",
      "69\n",
      "b= 69\n",
      "9  is less than  69\n"
     ]
    }
   ],
   "source": [
    "a=int(input())\n",
    "print(\"a=\",a)\n",
    "b=int(input())\n",
    "print(\"b=\",b)\n",
    "if a>b :\n",
    "    print(a,\" is grater than \",b)\n",
    "if a<b:\n",
    "    print(a,\" is less than \",b)\n",
    "if a==b:\n",
    "    print(a,\" is equal to \",b)"
   ]
  },
  {
   "cell_type": "code",
   "execution_count": 36,
   "id": "9e7cb1b9",
   "metadata": {},
   "outputs": [
    {
     "name": "stdout",
     "output_type": "stream",
     "text": [
      "Squre of 1 = 1\n",
      "Squre of 2 = 4\n",
      "Squre of 3 = 9\n",
      "Squre of 4 = 16\n",
      "Squre of 5 = 25\n",
      "Squre of 6 = 36\n",
      "Squre of 7 = 49\n",
      "Squre of 8 = 64\n"
     ]
    }
   ],
   "source": [
    "n=9\n",
    "for i in range(1,n):\n",
    "    n=i*i\n",
    "    print(\"Squre of\",i,\"=\",n)"
   ]
  },
  {
   "cell_type": "code",
   "execution_count": 43,
   "id": "e2a9bc90",
   "metadata": {},
   "outputs": [
    {
     "name": "stdout",
     "output_type": "stream",
     "text": [
      "Enter a=78\n",
      "Enter b=78\n",
      "78  is equal to  78\n"
     ]
    }
   ],
   "source": [
    "a=int(input(\"Enter a=\"))\n",
    "b=int(input(\"Enter b=\"))\n",
    "if a>b :\n",
    "    print(a,\" is grater than \",b)\n",
    "elif a<b:\n",
    "    print(a,\" is less than \",b)\n",
    "else:\n",
    "    print(a,\" is equal to \",b)"
   ]
  },
  {
   "cell_type": "code",
   "execution_count": 55,
   "id": "b58b795d",
   "metadata": {},
   "outputs": [
    {
     "name": "stdout",
     "output_type": "stream",
     "text": [
      "6\n",
      "5\n",
      "4\n",
      "3\n"
     ]
    }
   ],
   "source": [
    "m=6\n",
    "while m>2:\n",
    "    print(m)\n",
    "    m=m-1\n"
   ]
  },
  {
   "cell_type": "code",
   "execution_count": 64,
   "id": "6b06edc7",
   "metadata": {},
   "outputs": [
    {
     "name": "stdout",
     "output_type": "stream",
     "text": [
      "Enter no.of rows: 3\n",
      "Enter no.of columns: 3\n",
      "Enter the elements of the fist matrix:\n",
      "5\n",
      "69\n",
      "5\n",
      "-3\n",
      "0\n",
      "-14\n",
      "25\n",
      "3\n",
      "4\n",
      "First matrix is:\n",
      "[5, 69, 5]\n",
      "[-3, 0, -14]\n",
      "[25, 3, 4]\n",
      "Enter the column of second matrix:\n",
      "15\n",
      "62\n",
      "58\n",
      "94\n",
      "71\n",
      "0\n",
      "-98\n",
      "2\n",
      "6\n",
      "Second matrix:\n",
      "[15, 62, 58]\n",
      "[94, 71, 0]\n",
      "[-98, 2, 6]\n",
      "the sum o matrix:\n",
      "[20, 131, 63]\n",
      "[91, 71, -14]\n",
      "[-73, 5, 10]\n"
     ]
    }
   ],
   "source": [
    "rows=int(input(\"Enter no.of rows: \"))\n",
    "columns=int(input(\"Enter no.of columns: \"))\n",
    "print(\"Enter the elements of the fist matrix:\")\n",
    "m1=[[int(input()) for i in range(columns)] for i in range(rows)]\n",
    "print(\"First matrix is:\")\n",
    "for n in m1:\n",
    "    print(n)\n",
    "print(\"Enter the column of second matrix:\")\n",
    "m2=[[int(input()) for i in range(columns)] for i in range(rows)]\n",
    "print(\"Second matrix:\")\n",
    "for n in m2:\n",
    "    print(n)\n",
    "result=[[0 for i in range(columns)] for i in range(rows)]\n",
    "for i in range(rows):\n",
    "    for j in range(columns):\n",
    "        result[i][j]=m1[i][j]+m2[i][j]\n",
    "print(\"the sum o matrix:\")\n",
    "for r in result:\n",
    "    print(r)"
   ]
  },
  {
   "cell_type": "code",
   "execution_count": 59,
   "id": "e9e52519",
   "metadata": {},
   "outputs": [
    {
     "name": "stdout",
     "output_type": "stream",
     "text": [
      "Enter no.of items:3\n",
      "Enter items:BOOKS\n",
      "Enter items:PENS\n",
      "Enter items:PENCILS\n",
      "BOOKS\n",
      "PENS\n",
      "PENCILS\n"
     ]
    }
   ],
   "source": [
    "stationary=[]\n",
    "n=int(input(\"Enter no.of items:\"))\n",
    "for i in range(n):\n",
    "    stationary.append(input(\"Enter items:\"))\n",
    "for i in stationary:\n",
    "    print(i)"
   ]
  },
  {
   "cell_type": "code",
   "execution_count": 63,
   "id": "cf69d3af",
   "metadata": {},
   "outputs": [
    {
     "name": "stdout",
     "output_type": "stream",
     "text": [
      "Enter a string=\tDEEKSHITH KUMAR ADLIMJALU\n",
      " KUMAR ADLIMJ\n"
     ]
    }
   ],
   "source": [
    "A=input(\"Enter a string=\\t\")\n",
    "Alen=len(A)\n",
    "print(A[9:Alen-3])"
   ]
  },
  {
   "cell_type": "code",
   "execution_count": 8,
   "id": "e1d13ce2",
   "metadata": {},
   "outputs": [
    {
     "name": "stdout",
     "output_type": "stream",
     "text": [
      "Enter the number of rows:3\n",
      "Enter the number of columns:3\n",
      "Enter the entries row vise\n",
      "6\n",
      "5\n",
      "4\n",
      "7\n",
      "2\n",
      "3\n",
      "9\n",
      "2\n",
      "1\n",
      "6 5 4 \n",
      "7 2 3 \n",
      "9 2 1 \n"
     ]
    }
   ],
   "source": [
    "Rows=int(input(\"Enter the number of rows:\"))\n",
    "Columns=int(input(\"Enter the number of columns:\"))\n",
    "matrix=[]\n",
    "print(\"Enter the entries row vise\")\n",
    "for row in range(Rows):\n",
    "    a=[]\n",
    "    for column in range(Columns):\n",
    "        a.append(int(input()))\n",
    "    matrix.append(a)\n",
    "for row in range(Rows):\n",
    "    for column in range(Columns):\n",
    "        print(matrix[row][column],end=\" \")\n",
    "    print()\n"
   ]
  },
  {
   "cell_type": "code",
   "execution_count": 11,
   "id": "485ec2f4",
   "metadata": {},
   "outputs": [
    {
     "name": "stdout",
     "output_type": "stream",
     "text": [
      "original list:  [2, 5, 9, 6, 2, 4, 8, 5, 6, 9, 1, 1, 5, 2]\n",
      "Unique elements [1, 2, 4, 5, 6, 8, 9]\n"
     ]
    }
   ],
   "source": [
    "l=[2,5,9,6,2,4,8,5,6,9,1,1,5,2]\n",
    "print(\"original list: \",l)\n",
    "s=set(l)\n",
    "new_list=list(s)\n",
    "print(\"Unique elements\",new_list)"
   ]
  },
  {
   "cell_type": "code",
   "execution_count": 16,
   "id": "4227f14c",
   "metadata": {},
   "outputs": [
    {
     "name": "stdout",
     "output_type": "stream",
     "text": [
      "Enter a radius of the circle:5\n",
      "area of the circle: 78.5\n"
     ]
    }
   ],
   "source": [
    "r=float(input(\"Enter a radius of the circle:\"))\n",
    "pi=3.14\n",
    "area=pi*r*r\n",
    "print(\"area of the circle:\",area)"
   ]
  },
  {
   "cell_type": "code",
   "execution_count": 17,
   "id": "682c38dc",
   "metadata": {},
   "outputs": [
    {
     "name": "stdout",
     "output_type": "stream",
     "text": [
      "Enter base of a triangle :6\n",
      "Enter height of a triangle  :9.4\n",
      "Area of the triangle: 28.200000000000003\n"
     ]
    }
   ],
   "source": [
    "b=float(input(\"Enter base of a triangle :\"))\n",
    "h=float(input(\"Enter height of a triangle  :\"))\n",
    "area=0.5*b*h\n",
    "print(\"Area of the triangle:\",area)"
   ]
  },
  {
   "cell_type": "code",
   "execution_count": 18,
   "id": "a158c482",
   "metadata": {},
   "outputs": [
    {
     "name": "stdout",
     "output_type": "stream",
     "text": [
      "Enter a length of a rectangle:4\n",
      "Enter a breadth of a rectangle:9\n",
      "Area of the Rectangle= 36.0\n"
     ]
    }
   ],
   "source": [
    "l=float(input(\"Enter a length of a rectangle:\"))\n",
    "b=float(input(\"Enter a breadth of a rectangle:\"))\n",
    "area=l*b\n",
    "print(\"Area of the Rectangle=\",area)"
   ]
  },
  {
   "cell_type": "code",
   "execution_count": 35,
   "id": "bcea509b",
   "metadata": {},
   "outputs": [
    {
     "name": "stdout",
     "output_type": "stream",
     "text": [
      "Enter a structure:rectangle\n",
      "Enter a length of a rectangle:6\n",
      "Enter a breadth of a rectangle:8\n",
      "Area of the Rectangle= 48.0\n"
     ]
    }
   ],
   "source": [
    "structure=input(\"Enter a structure:\")\n",
    "if structure==\"circle\":\n",
    "    pi=3.14\n",
    "    r=float(input(\"radius=\"))\n",
    "    area=pi*r*r\n",
    "    print(\"Area of a circle=\",area)\n",
    "if structure==\"triangle\":\n",
    "    b=float(input(\"Enter base of a triangle :\"))\n",
    "    h=float(input(\"Enter height of a triangle  :\"))\n",
    "    area=0.5*b*h\n",
    "    print(\"Area of the triangle:\",area)\n",
    "if structure==\"rectangle\":\n",
    "    l=float(input(\"Enter length of a rectangle:\"))\n",
    "    b=float(input(\"Enter breadth of a rectangle:\"))\n",
    "    area=l*b\n",
    "    print(\"Area of the Rectangle=\",area)"
   ]
  },
  {
   "cell_type": "code",
   "execution_count": 36,
   "id": "59c129a5",
   "metadata": {},
   "outputs": [
    {
     "name": "stdout",
     "output_type": "stream",
     "text": [
      "Radius=5\n",
      "Area= 78.5\n"
     ]
    }
   ],
   "source": [
    "def circle(r):\n",
    "    pi=3.14\n",
    "    area=pi*r*r\n",
    "    return area\n",
    "r=float(input(\"Radius=\"))\n",
    "print(\"Area=\",circle(r))"
   ]
  },
  {
   "cell_type": "code",
   "execution_count": 39,
   "id": "4ca24a40",
   "metadata": {},
   "outputs": [
    {
     "name": "stdout",
     "output_type": "stream",
     "text": [
      "Enter base of a triangle :5\n",
      "Enter height of a triangle  :6\n",
      "Area= 15.0\n"
     ]
    }
   ],
   "source": [
    "def triangle(b,h):\n",
    "    area=(b*h)/2\n",
    "    return area\n",
    "b=float(input(\"Enter base of a triangle :\"))\n",
    "h=float(input(\"Enter height of a triangle  :\"))\n",
    "print(\"Area=\",triangle(b,h))"
   ]
  },
  {
   "cell_type": "code",
   "execution_count": 41,
   "id": "d5dea413",
   "metadata": {},
   "outputs": [
    {
     "name": "stdout",
     "output_type": "stream",
     "text": [
      "Enter length of a rectangle:5\n",
      "Enter breadth of a rectangle:6\n",
      "Area= 30.0\n"
     ]
    }
   ],
   "source": [
    "def rectangle(l,b):\n",
    "    area=l*b\n",
    "    return area\n",
    "l=float(input(\"Enter length of a rectangle:\"))\n",
    "b=float(input(\"Enter breadth of a rectangle:\"))\n",
    "print(\"Area=\",rectangle(l,b))"
   ]
  },
  {
   "cell_type": "code",
   "execution_count": 51,
   "id": "0c02813f",
   "metadata": {},
   "outputs": [
    {
     "name": "stdout",
     "output_type": "stream",
     "text": [
      "Enter a shape:circle\n",
      "Radius=5\n",
      "Area= 78.5\n"
     ]
    }
   ],
   "source": [
    "shape=input(\"Enter a shape:\")\n",
    "if shape==\"circle\":\n",
    "    def circle(r):\n",
    "        pi=3.14\n",
    "        area=pi*r*r\n",
    "        return area\n",
    "    r=float(input(\"Radius=\"))\n",
    "    print(\"Area=\",circle(r)) \n",
    "if shape==\"triangle\":\n",
    "    def triangle(b,h):\n",
    "        area=(b*h)/2\n",
    "        return area\n",
    "    b=float(input(\"Enter base of a triangle :\"))\n",
    "    h=float(input(\"Enter height of a triangle  :\")) \n",
    "    print(\"Area=\",triangle(b,h))\n",
    "if shape==\"rectangle\": \n",
    "    def rectangle(l,b):\n",
    "        area=l*b\n",
    "        return area\n",
    "    l=float(input(\"Enter length of a rectangle:\"))\n",
    "    b=float(input(\"Enter breadth of a rectangle:\"))\n",
    "    print(\"Area=\",rectangle(l,b)) \n"
   ]
  },
  {
   "cell_type": "code",
   "execution_count": 59,
   "id": "f952c0f0",
   "metadata": {},
   "outputs": [
    {
     "name": "stdout",
     "output_type": "stream",
     "text": [
      "Enter a shape:triangle\n",
      "Enter base of a triangle :5\n",
      "Enter height of a triangle  :6\n",
      "one side of a triangle  :4\n",
      "Another side of a triangle  :2\n",
      "Area= 15.0\n",
      "Perimiter= 11.0\n"
     ]
    }
   ],
   "source": [
    "shape=input(\"Enter a shape:\")\n",
    "if shape==\"circle\":\n",
    "    def circle(r):\n",
    "        pi=3.14\n",
    "        area=pi*r*r\n",
    "        return area\n",
    "    def perimeter(r):\n",
    "        perimeter=2*pi*r\n",
    "        return perimeter\n",
    "    r=float(input(\"Radius=\"))\n",
    "    print(\"Area=\",circle(r))\n",
    "    print(\"Perimiter=\",perimeter(r))\n",
    "if shape==\"triangle\":\n",
    "    def triangle(b,h):\n",
    "        area=(b*h)/2\n",
    "        return area\n",
    "    def perimeter(a,b,c):\n",
    "        perimeter=a+b+c\n",
    "        return perimeter\n",
    "    b=float(input(\"Enter base of a triangle :\"))\n",
    "    h=float(input(\"Enter height of a triangle  :\"))\n",
    "    a=float(input(\"one side of a triangle  :\"))\n",
    "    c=float(input(\"Another side of a triangle  :\"))\n",
    "    print(\"Area=\",triangle(b,h))\n",
    "    print(\"Perimiter=\",perimeter(a,b,c))\n",
    "if shape==\"rectangle\": \n",
    "    def rectangle(l,b):\n",
    "        area=l*b\n",
    "        return area\n",
    "    def perimeter(l,b): \n",
    "        perimeter=2*(l+b)\n",
    "        return perimeter\n",
    "    l=float(input(\"Enter length of a rectangle:\"))\n",
    "    b=float(input(\"Enter breadth of a rectangle:\"))\n",
    "    print(\"Area=\",rectangle(l,b)) \n",
    "    print(\"Perimiter=\",perimeter(l,b))"
   ]
  },
  {
   "cell_type": "code",
   "execution_count": 52,
   "id": "be0d4a1c",
   "metadata": {},
   "outputs": [
    {
     "name": "stdout",
     "output_type": "stream",
     "text": [
      "139.1402170474087\n"
     ]
    }
   ],
   "source": [
    "a=5\n",
    "b=6\n",
    "c=5\n",
    "s=a+b+c\n",
    "area = (s * (s-a) * (s-b)*(s-c))**0.5\n",
    "print(area)"
   ]
  },
  {
   "cell_type": "code",
   "execution_count": 63,
   "id": "46111f5a",
   "metadata": {},
   "outputs": [
    {
     "name": "stdout",
     "output_type": "stream",
     "text": [
      "Enter a string:mangalore university\n",
      "Vowels: 8\n",
      "Consonants: 11\n"
     ]
    }
   ],
   "source": [
    "string = input(\"Enter a string:\")\n",
    "counts = {\"vowels\": 0, \"consonants\": 0}\n",
    "for char in string.lower():\n",
    "    if char in \"aeiou\":\n",
    "        counts[\"vowels\"] += 1\n",
    "    elif char.isalpha():\n",
    "        counts[\"consonants\"] += 1\n",
    "   \n",
    "print(\"Vowels:\", counts[\"vowels\"])\n",
    "print(\"Consonants:\", counts[\"consonants\"])"
   ]
  },
  {
   "cell_type": "code",
   "execution_count": 36,
   "id": "cf978b21",
   "metadata": {},
   "outputs": [
    {
     "name": "stdout",
     "output_type": "stream",
     "text": [
      "Enter a string:mangalore university\n",
      "Vowels: 8\n",
      "Consonant: 11\n",
      "Digit: 0\n",
      "Special Character: 0\n",
      "Whitespace: 1\n",
      "a 1\n",
      "a 1\n",
      "o 6\n",
      "e 8\n",
      "u 10\n",
      "i 12\n",
      "e 8\n",
      "i 12\n"
     ]
    }
   ],
   "source": [
    "def countCharacterType(str): \n",
    "    vowels = 0\n",
    "    consonant = 0\n",
    "    specialChar = 0\n",
    "    digit = 0\n",
    "    whitespace=0\n",
    "    for i in range(0, len(str)):        \n",
    "        ch = str[i]\n",
    "        if ( (ch >= 'a' and ch <= 'z') or (ch >= 'A' and ch <= 'Z') ):  \n",
    "            ch = ch.lower() \n",
    "            if (ch == 'a' or ch == 'e' or ch == 'i' or ch == 'o' or ch == 'u'): \n",
    "                vowels += 1\n",
    "            else: \n",
    "                consonant += 1\n",
    "          \n",
    "        elif (ch >= '0' and ch <= '9'): \n",
    "            digit += 1\n",
    "        elif (ch==\" \"):\n",
    "            whitespace+=1\n",
    "        else: \n",
    "            specialChar += 1\n",
    "      \n",
    "    print(\"Vowels:\", vowels) \n",
    "    print(\"Consonant:\", consonant)  \n",
    "    print(\"Digit:\", digit)  \n",
    "    print(\"Special Character:\", specialChar) \n",
    "    print(\"Whitespace:\",whitespace)\n",
    "  \n",
    "\n",
    "str = input(\"Enter a string:\")\n",
    "countCharacterType(str)\n",
    "position = 0\n",
    "vowels=[\"a\",\"e\",\"i\",\"o\",\"u\",\"A\",\"E\",\"I\",\"O\",\"U\"]\n",
    "for char in str:\n",
    "    if char in vowels :\n",
    "        position = str.find(char)\n",
    "        print(char, position)\n",
    "    \n"
   ]
  },
  {
   "cell_type": "code",
   "execution_count": 40,
   "id": "d525c822",
   "metadata": {},
   "outputs": [
    {
     "name": "stdout",
     "output_type": "stream",
     "text": [
      "Enter a number=3\n",
      "Entered number is non zero\n"
     ]
    }
   ],
   "source": [
    "num=int(input(\"Enter a number=\"))\n",
    "if num==0:\n",
    "    print(\"Entered number is zero\")\n",
    "else:\n",
    "    print(\"Entered number is non zero\")\n"
   ]
  },
  {
   "cell_type": "code",
   "execution_count": 42,
   "id": "9082883a",
   "metadata": {},
   "outputs": [
    {
     "name": "stdout",
     "output_type": "stream",
     "text": [
      "Enter a first number=31\n",
      "Enter a second number=-56\n",
      "31  is greater than  -56\n"
     ]
    }
   ],
   "source": [
    "num1=int(input(\"Enter a first number=\"))\n",
    "num2=int(input(\"Enter a second number=\"))\n",
    "if num1>num2:\n",
    "    print(num1,\" is greater than \",num2)\n",
    "elif num1<num2:\n",
    "    print(num2,\" is greater than \",num1)\n",
    "else:\n",
    "    print(num1,\" is equal to \",num2)"
   ]
  },
  {
   "cell_type": "code",
   "execution_count": 44,
   "id": "7f40ea0e",
   "metadata": {},
   "outputs": [
    {
     "name": "stdout",
     "output_type": "stream",
     "text": [
      "Enter a number=-6\n",
      "Number is non positive\n"
     ]
    }
   ],
   "source": [
    "num=int(input(\"Enter a number=\"))\n",
    "if num>=0:\n",
    "    print(\"Number is positive\")\n",
    "else:\n",
    "    print(\"Number is non positive\")"
   ]
  },
  {
   "cell_type": "code",
   "execution_count": 70,
   "id": "3a8d1e10",
   "metadata": {},
   "outputs": [
    {
     "name": "stdout",
     "output_type": "stream",
     "text": [
      "Enter a character=l\n",
      "consonant l\n"
     ]
    }
   ],
   "source": [
    "char=input(\"Enter a character=\")\n",
    "vowel=['a','e','i','o','u','A','E','I','O','U']\n",
    "if char in vowel:\n",
    "    print(\"vowel\",char)\n",
    "else:\n",
    "    print(\"consonant\",char)"
   ]
  },
  {
   "cell_type": "code",
   "execution_count": 71,
   "id": "9b5075f1",
   "metadata": {},
   "outputs": [
    {
     "name": "stdout",
     "output_type": "stream",
     "text": [
      "* \n",
      "* * \n",
      "* * * \n",
      "* * * * \n",
      "* * * * * \n"
     ]
    }
   ],
   "source": [
    "n = 5\n",
    "for i in range(0, n):\n",
    "    for j in range(0, i+1):\n",
    "        \n",
    "        print(\"*\", end=\" \")\n",
    "    print()\n"
   ]
  },
  {
   "cell_type": "code",
   "execution_count": 117,
   "id": "923d27ab",
   "metadata": {},
   "outputs": [
    {
     "name": "stdout",
     "output_type": "stream",
     "text": [
      "Enter the size: 6\n",
      "      A \n",
      "     A B \n",
      "    A B C \n",
      "   A B C D \n",
      "  A B C D E \n",
      " A B C D E F \n",
      "      a \n",
      "     a b \n",
      "    a b c \n",
      "   a b c d \n",
      "  a b c d e \n",
      " a b c d e f \n"
     ]
    }
   ],
   "source": [
    "size = int(input(\"Enter the size: \"))\n",
    "upperalpha = 65\n",
    "for i in range(size):\n",
    "    for j in range(size-i):\n",
    "        print(\" \", end=\"\")\n",
    "    for k in range( i + 1):\n",
    "        print(chr(upperalpha + k), end=\" \")\n",
    "    print()\n",
    "loweralpha=97\n",
    "for i in range(0,size):\n",
    "    for j in range(size-i):\n",
    "        print(\" \", end=\"\")\n",
    "    for k in range( i + 1):\n",
    "        print(chr(loweralpha + k), end=\" \")\n",
    "    print()\n"
   ]
  },
  {
   "cell_type": "code",
   "execution_count": 105,
   "id": "f98f2e2e",
   "metadata": {},
   "outputs": [
    {
     "name": "stdout",
     "output_type": "stream",
     "text": [
      "['a', 'b', 'c', 'd', 'e', 'f', 'g', 'h', 'i', 'j', 'k', 'l', 'm', 'n', 'o', 'p', 'q', 'r', 's', 't', 'u', 'v', 'w', 'x', 'y', 'z']\n"
     ]
    }
   ],
   "source": [
    "var='a'\n",
    "alphabets=[]\n",
    "alphabets=[(chr(ord(var)+i)) for i in range(26)]\n",
    "print(alphabets)\n"
   ]
  },
  {
   "cell_type": "code",
   "execution_count": 131,
   "id": "7865a69c",
   "metadata": {},
   "outputs": [
    {
     "name": "stdout",
     "output_type": "stream",
     "text": [
      "Enter number of rows: 6\n",
      "      1 \n",
      "\n",
      "     1 2 \n",
      "\n",
      "    1 2 3 \n",
      "\n",
      "   1 2 3 4 \n",
      "\n",
      "  1 2 3 4 5 \n",
      "\n",
      " 1 2 3 4 5 6 \n",
      "\n"
     ]
    }
   ],
   "source": [
    "rows = int(input(\"Enter number of rows: \"))\n",
    "\n",
    "for i in range(rows):\n",
    "    for j in range(rows-i):\n",
    "        print(\" \",end=\"\")\n",
    "    for k in range(i+1):\n",
    "        print(1+k, end=\" \")\n",
    "    print(\"\\n\")"
   ]
  },
  {
   "cell_type": "code",
   "execution_count": 122,
   "id": "0f0de0ba",
   "metadata": {},
   "outputs": [
    {
     "name": "stdout",
     "output_type": "stream",
     "text": [
      "Enter number of rows: 6\n",
      "          1 \n",
      "        2 3 2 \n",
      "      3 4 5 4 3 \n",
      "    4 5 6 7 6 5 4 \n",
      "  5 6 7 8 9 8 7 6 5 \n",
      "6 7 8 9 10 11 10 9 8 7 6 \n"
     ]
    }
   ],
   "source": [
    "rows = int(input(\"Enter number of rows: \"))\n",
    "\n",
    "k = 0\n",
    "count=0\n",
    "count1=0\n",
    "\n",
    "for i in range(1, rows+1):\n",
    "    for space in range(1, (rows-i)+1):\n",
    "        print(\"  \", end=\"\")\n",
    "        count+=1\n",
    "    \n",
    "    while k!=((2*i)-1):\n",
    "        if count<=rows-1:\n",
    "            print(i+k, end=\" \")\n",
    "            count+=1\n",
    "        else:\n",
    "            count1+=1\n",
    "            print(i+k-(2*count1), end=\" \")\n",
    "        k += 1\n",
    "    \n",
    "    count1 = count = k = 0\n",
    "    print()"
   ]
  },
  {
   "cell_type": "code",
   "execution_count": 143,
   "id": "95ad3e9d",
   "metadata": {},
   "outputs": [
    {
     "name": "stdout",
     "output_type": "stream",
     "text": [
      "Enter a letter:amma\n",
      "The letter is a palindrome\n"
     ]
    }
   ],
   "source": [
    "string=input((\"Enter a letter:\"))  \n",
    "if(string==string[::-1]):  \n",
    "      print(\"The letter is a palindrome\")  \n",
    "else:  \n",
    "      print(\"The letter is not a palindrome\")  "
   ]
  },
  {
   "cell_type": "code",
   "execution_count": null,
   "id": "1389c0f9",
   "metadata": {},
   "outputs": [],
   "source": [
    "num = int(input(\"Enter a value:\"))  \n",
    "temp = num  \n",
    "rev = 0  \n",
    "while(num > 0):  \n",
    "    dig = num % 10  \n",
    "    rev = rev * 10 + dig  \n",
    "    num = num // 10 \n",
    "print(\"number\",temp)\n",
    "print(\"reverse\",rev)\n",
    "if(temp == rev):  \n",
    "    print(\"This value is a palindrome number!\")  \n",
    "else:  \n",
    "    print(\"This value is not a palindrome number!\")  "
   ]
  },
  {
   "cell_type": "code",
   "execution_count": null,
   "id": "d15d7d62",
   "metadata": {},
   "outputs": [],
   "source": []
  }
 ],
 "metadata": {
  "kernelspec": {
   "display_name": "Python 3 (ipykernel)",
   "language": "python",
   "name": "python3"
  },
  "language_info": {
   "codemirror_mode": {
    "name": "ipython",
    "version": 3
   },
   "file_extension": ".py",
   "mimetype": "text/x-python",
   "name": "python",
   "nbconvert_exporter": "python",
   "pygments_lexer": "ipython3",
   "version": "3.11.4"
  }
 },
 "nbformat": 4,
 "nbformat_minor": 5
}
