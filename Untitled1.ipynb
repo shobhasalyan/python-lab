{
 "cells": [
  {
   "cell_type": "code",
   "execution_count": 3,
   "id": "ce777093",
   "metadata": {},
   "outputs": [
    {
     "name": "stdout",
     "output_type": "stream",
     "text": [
      "Hello world\n"
     ]
    }
   ],
   "source": [
    "print(\"Hello world\")"
   ]
  },
  {
   "cell_type": "code",
   "execution_count": 5,
   "id": "db97df85",
   "metadata": {},
   "outputs": [
    {
     "name": "stdout",
     "output_type": "stream",
     "text": [
      "Sum 27\n"
     ]
    }
   ],
   "source": [
    "a=15\n",
    "b=12\n",
    "sum=a+b\n",
    "print(\"Sum\",sum)"
   ]
  },
  {
   "cell_type": "code",
   "execution_count": 7,
   "id": "b3da8d7b",
   "metadata": {},
   "outputs": [
    {
     "name": "stdout",
     "output_type": "stream",
     "text": [
      "First number: 56\n",
      "second number: 96\n",
      "sum of 56 and 96 is 152.0\n"
     ]
    }
   ],
   "source": [
    "a=input(\"First number: \")\n",
    "b=input(\"second number: \")\n",
    "sum=float(a)+float(b)\n",
    "print(\"sum of {0} and {1} is {2}\".format(a,b,sum))"
   ]
  },
  {
   "cell_type": "code",
   "execution_count": 8,
   "id": "c27ffb7a",
   "metadata": {},
   "outputs": [
    {
     "name": "stdout",
     "output_type": "stream",
     "text": [
      "sum of 10 and 5 is 15\n"
     ]
    }
   ],
   "source": [
    "def add(a,b):\n",
    "    return a+b\n",
    "num1=10\n",
    "num2=5\n",
    "sum_of_twonumbers=add(num1,num2)\n",
    "print(\"sum of {0} and {1} is {2}\".format(num1,num2,sum_of_twonumbers))"
   ]
  },
  {
   "cell_type": "code",
   "execution_count": 10,
   "id": "c132c4ab",
   "metadata": {},
   "outputs": [
    {
     "name": "stdout",
     "output_type": "stream",
     "text": [
      "First number: 52\n",
      "second number: 52.1\n",
      "maximum= 52.1\n"
     ]
    }
   ],
   "source": [
    "a=input(\"First number: \")\n",
    "b=input(\"second number: \")\n",
    "maximum=max(a,b)\n",
    "print(\"maximum=\",maximum)"
   ]
  },
  {
   "cell_type": "code",
   "execution_count": 13,
   "id": "bfb83908",
   "metadata": {},
   "outputs": [
    {
     "name": "stdout",
     "output_type": "stream",
     "text": [
      "factorial of 6 is 720\n"
     ]
    }
   ],
   "source": [
    "def factorial(n):\n",
    "    return 1 if (n==1 or n==0) else n*factorial(n-1)\n",
    "num=6\n",
    "print(\"factorial of\",num,\"is\",factorial(num))"
   ]
  },
  {
   "cell_type": "code",
   "execution_count": 21,
   "id": "28f6c2e2",
   "metadata": {},
   "outputs": [
    {
     "name": "stdout",
     "output_type": "stream",
     "text": [
      "Enter the principal amount :3000\n",
      "Enter the TIME PERIOD :7\n",
      "Enter the rate of intrest:12\n",
      "principal amount = 3000\n",
      "time period = 7\n",
      "rate of intrest = 12\n",
      "simple intrest = 2520.0\n"
     ]
    }
   ],
   "source": [
    "def simple(p,t,r):\n",
    "    print('principal amount =',p)\n",
    "    print('time period =',t)\n",
    "    print('rate of intrest =',r)\n",
    "    si=(p*t*r)/100\n",
    "    print('simple intrest =',si)\n",
    "P=int(input(\"Enter the principal amount :\"))\n",
    "T=int(input(\"Enter the TIME PERIOD :\"))\n",
    "R=int(input(\"Enter the rate of intrest:\"))\n",
    "simple(P,T,R)"
   ]
  },
  {
   "cell_type": "code",
   "execution_count": 22,
   "id": "38699605",
   "metadata": {},
   "outputs": [
    {
     "name": "stdout",
     "output_type": "stream",
     "text": [
      "the ASCII value of'g' is 103\n"
     ]
    }
   ],
   "source": [
    "c='g'\n",
    "print(\"the ASCII value of'\" +c+\"' is\",ord(c))"
   ]
  },
  {
   "cell_type": "code",
   "execution_count": null,
   "id": "81c72cba",
   "metadata": {},
   "outputs": [],
   "source": [
    "print(\"Enter a String:\",end=\" \")\n",
    "text=input()\n",
    "textlength=len(text)\n",
    "for char in text:\n",
    "    ascii=ord(char)\n",
    "    print(char,\"\\t\",ascii)"
   ]
  },
  {
   "cell_type": "code",
   "execution_count": null,
   "id": "a6ade85c",
   "metadata": {},
   "outputs": [],
   "source": []
  },
  {
   "cell_type": "code",
   "execution_count": null,
   "id": "f281744a",
   "metadata": {},
   "outputs": [],
   "source": []
  },
  {
   "cell_type": "code",
   "execution_count": null,
   "id": "e41f958f",
   "metadata": {},
   "outputs": [],
   "source": []
  },
  {
   "cell_type": "code",
   "execution_count": null,
   "id": "4b322b74",
   "metadata": {},
   "outputs": [],
   "source": []
  }
 ],
 "metadata": {
  "kernelspec": {
   "display_name": "Python 3 (ipykernel)",
   "language": "python",
   "name": "python3"
  },
  "language_info": {
   "codemirror_mode": {
    "name": "ipython",
    "version": 3
   },
   "file_extension": ".py",
   "mimetype": "text/x-python",
   "name": "python",
   "nbconvert_exporter": "python",
   "pygments_lexer": "ipython3",
   "version": "3.11.4"
  }
 },
 "nbformat": 4,
 "nbformat_minor": 5
}
