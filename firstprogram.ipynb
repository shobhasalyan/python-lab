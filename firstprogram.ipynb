{
  "nbformat": 4,
  "nbformat_minor": 0,
  "metadata": {
    "colab": {
      "provenance": [],
      "authorship_tag": "ABX9TyNNDgNX0T+kPV65iiLWieC7",
      "include_colab_link": true
    },
    "kernelspec": {
      "name": "python3",
      "display_name": "Python 3"
    },
    "language_info": {
      "name": "python"
    }
  },
  "cells": [
    {
      "cell_type": "markdown",
      "metadata": {
        "id": "view-in-github",
        "colab_type": "text"
      },
      "source": [
        "<a href=\"https://colab.research.google.com/github/shobhasalyan/python-lab/blob/main/firstprogram.ipynb\" target=\"_parent\"><img src=\"https://colab.research.google.com/assets/colab-badge.svg\" alt=\"Open In Colab\"/></a>"
      ]
    },
    {
      "cell_type": "code",
      "execution_count": 1,
      "metadata": {
        "colab": {
          "base_uri": "https://localhost:8080/"
        },
        "id": "WO1HvMWJdsEg",
        "outputId": "adf41f9d-cd94-4538-c0a3-37e6ebf6082d"
      },
      "outputs": [
        {
          "output_type": "stream",
          "name": "stdout",
          "text": [
            "Hello\n"
          ]
        }
      ],
      "source": [
        "print(\"Hello\")"
      ]
    },
    {
      "cell_type": "code",
      "source": [
        "a=95.36\n",
        "b=51\n",
        "sum=a+b\n",
        "print(\"Sum =\",sum)"
      ],
      "metadata": {
        "colab": {
          "base_uri": "https://localhost:8080/"
        },
        "id": "rS7b7d3gd7SP",
        "outputId": "c5be2b4a-935a-4c4e-80fe-ad7cf44fe306"
      },
      "execution_count": 2,
      "outputs": [
        {
          "output_type": "stream",
          "name": "stdout",
          "text": [
            "Sum = 146.36\n"
          ]
        }
      ]
    },
    {
      "cell_type": "code",
      "source": [
        "diff=a-b\n",
        "print(\"diff=\",diff)"
      ],
      "metadata": {
        "colab": {
          "base_uri": "https://localhost:8080/"
        },
        "id": "_p5ocbXCfhF0",
        "outputId": "add75f52-13cc-4fbf-8a6e-901c7686e6bc"
      },
      "execution_count": 5,
      "outputs": [
        {
          "output_type": "stream",
          "name": "stdout",
          "text": [
            "diff= 44.36\n"
          ]
        }
      ]
    },
    {
      "cell_type": "code",
      "source": [
        "div=a/b\n",
        "print(\"Division =\",div)"
      ],
      "metadata": {
        "colab": {
          "base_uri": "https://localhost:8080/"
        },
        "id": "jUTa0RvdgU9c",
        "outputId": "185fbb64-67c8-40aa-db37-cc06ba8182bf"
      },
      "execution_count": 6,
      "outputs": [
        {
          "output_type": "stream",
          "name": "stdout",
          "text": [
            "Division = 1.8698039215686275\n"
          ]
        }
      ]
    },
    {
      "cell_type": "code",
      "source": [
        "rem=a%b\n",
        "print(\"rem=\",rem)"
      ],
      "metadata": {
        "colab": {
          "base_uri": "https://localhost:8080/"
        },
        "id": "09EqIdZQgZWY",
        "outputId": "111a9a32-5f1e-4897-b0ec-7aabac1ebedd"
      },
      "execution_count": 7,
      "outputs": [
        {
          "output_type": "stream",
          "name": "stdout",
          "text": [
            "rem= 44.36\n"
          ]
        }
      ]
    },
    {
      "cell_type": "code",
      "source": [
        "mul=a*b\n",
        "print(\"multiplication =\",mul)"
      ],
      "metadata": {
        "colab": {
          "base_uri": "https://localhost:8080/"
        },
        "id": "vvFU8zp0gAgF",
        "outputId": "5f754026-a8f5-49b7-d996-8615f11d3d0f"
      },
      "execution_count": 4,
      "outputs": [
        {
          "output_type": "stream",
          "name": "stdout",
          "text": [
            "multiplication = 4863.36\n"
          ]
        }
      ]
    }
  ]
}