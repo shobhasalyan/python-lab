{
 "cells": [
  {
   "cell_type": "code",
   "execution_count": 1,
   "id": "e5cb9bf7",
   "metadata": {},
   "outputs": [
    {
     "name": "stdout",
     "output_type": "stream",
     "text": [
      "Enter a String: Shobha\n",
      "S \t 83\n",
      "h \t 104\n",
      "o \t 111\n",
      "b \t 98\n",
      "h \t 104\n",
      "a \t 97\n"
     ]
    }
   ],
   "source": [
    "print(\"Enter a String:\",end=\" \")\n",
    "text=input()\n",
    "textlength=len(text)\n",
    "for char in text:\n",
    "    ascii=ord(char)\n",
    "    print(char,\"\\t\",ascii)"
   ]
  },
  {
   "cell_type": "code",
   "execution_count": 2,
   "id": "bb7e0521",
   "metadata": {},
   "outputs": [
    {
     "name": "stdout",
     "output_type": "stream",
     "text": [
      "Enter a String: Amisha S\n",
      "A \t 65\n",
      "m \t 109\n",
      "i \t 105\n",
      "s \t 115\n",
      "h \t 104\n",
      "a \t 97\n",
      "  \t 32\n",
      "S \t 83\n"
     ]
    }
   ],
   "source": [
    "print(\"Enter a String:\",end=\" \")\n",
    "text=input()\n",
    "textlength=len(text)\n",
    "for char in text:\n",
    "    ascii=ord(char)\n",
    "    print(char,\"\\t\",ascii)"
   ]
  },
  {
   "cell_type": "code",
   "execution_count": 3,
   "id": "ec606de0",
   "metadata": {},
   "outputs": [
    {
     "name": "stdout",
     "output_type": "stream",
     "text": [
      "Enter a String: Anushree D\n",
      "A \t 65\n",
      "n \t 110\n",
      "u \t 117\n",
      "s \t 115\n",
      "h \t 104\n",
      "r \t 114\n",
      "e \t 101\n",
      "e \t 101\n",
      "  \t 32\n",
      "D \t 68\n"
     ]
    }
   ],
   "source": [
    "print(\"Enter a String:\",end=\" \")\n",
    "text=input()\n",
    "textlength=len(text)\n",
    "for char in text:\n",
    "    ascii=ord(char)\n",
    "    print(char,\"\\t\",ascii)"
   ]
  },
  {
   "cell_type": "code",
   "execution_count": 12,
   "id": "e98382b4",
   "metadata": {},
   "outputs": [
    {
     "name": "stdout",
     "output_type": "stream",
     "text": [
      "Enter the value of n:\n",
      "6\n",
      "Enter 6 Numbers:\n",
      "10\n",
      "20\n",
      "30\n",
      "40\n",
      "50\n",
      "60\n",
      "sum of 6 Numbers =210\n"
     ]
    }
   ],
   "source": [
    "sum=0\n",
    "print(\"Enter the value of n:\")\n",
    "n=int(input())\n",
    "print(\"Enter \"+str(n) +\" Numbers:\")\n",
    "for i in range(n):\n",
    "    num=int(input())\n",
    "    sum=sum+num\n",
    "print(\"sum of \"+str(n)+\" Numbers =\"+str(sum))"
   ]
  },
  {
   "cell_type": "code",
   "execution_count": 6,
   "id": "94c8c745",
   "metadata": {},
   "outputs": [
    {
     "name": "stdout",
     "output_type": "stream",
     "text": [
      "0\n",
      "1\n",
      "2\n",
      "3\n"
     ]
    }
   ],
   "source": [
    "n=4\n",
    "for i in range(0,n):\n",
    "    print(i)"
   ]
  },
  {
   "cell_type": "code",
   "execution_count": 15,
   "id": "f49a6b7e",
   "metadata": {},
   "outputs": [
    {
     "name": "stdout",
     "output_type": "stream",
     "text": [
      "enter the value of n: 10\n",
      "Enter 10 Numbers: 65\n",
      "45\n",
      "25\n",
      "3\n",
      "6\n",
      "9\n",
      "8\n",
      "4\n",
      "25\n",
      "36\n",
      "\n",
      " Sum of 10 Numbers = 226\n"
     ]
    }
   ],
   "source": [
    "sum=0\n",
    "i=0\n",
    "print(end=\"enter the value of n: \")\n",
    "n=int(input())\n",
    "print(end=\"Enter \"+str(n)+\" Numbers: \")\n",
    "while i<n:\n",
    "    num=int(input())\n",
    "    sum=sum+num\n",
    "    i=i+1\n",
    "print(\"\\n Sum of \"+str(n)+\" Numbers = \"+str(sum))"
   ]
  },
  {
   "cell_type": "code",
   "execution_count": null,
   "id": "2baa1f26",
   "metadata": {},
   "outputs": [],
   "source": []
  },
  {
   "cell_type": "code",
   "execution_count": null,
   "id": "638708b3",
   "metadata": {},
   "outputs": [],
   "source": []
  }
 ],
 "metadata": {
  "kernelspec": {
   "display_name": "Python 3 (ipykernel)",
   "language": "python",
   "name": "python3"
  },
  "language_info": {
   "codemirror_mode": {
    "name": "ipython",
    "version": 3
   },
   "file_extension": ".py",
   "mimetype": "text/x-python",
   "name": "python",
   "nbconvert_exporter": "python",
   "pygments_lexer": "ipython3",
   "version": "3.11.4"
  }
 },
 "nbformat": 4,
 "nbformat_minor": 5
}
